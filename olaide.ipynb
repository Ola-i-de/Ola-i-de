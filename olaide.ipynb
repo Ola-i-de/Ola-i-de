{
  "nbformat": 4,
  "nbformat_minor": 0,
  "metadata": {
    "colab": {
      "name": "olaide.ipynb",
      "provenance": [],
      "collapsed_sections": [],
      "authorship_tag": "ABX9TyMsQTOb8O6CYK8pNaL/JgE8",
      "include_colab_link": true
    },
    "kernelspec": {
      "name": "python3",
      "display_name": "Python 3"
    },
    "language_info": {
      "name": "python"
    }
  },
  "cells": [
    {
      "cell_type": "markdown",
      "metadata": {
        "id": "view-in-github",
        "colab_type": "text"
      },
      "source": [
        "<a href=\"https://colab.research.google.com/github/Ola-i-de/Ola-i-de/blob/main/olaide.ipynb\" target=\"_parent\"><img src=\"https://colab.research.google.com/assets/colab-badge.svg\" alt=\"Open In Colab\"/></a>"
      ]
    },
    {
      "cell_type": "code",
      "execution_count": null,
      "metadata": {
        "colab": {
          "base_uri": "https://localhost:8080/",
          "height": 508
        },
        "id": "UDVuGU9ln1DI",
        "outputId": "1453d166-8073-4170-ed75-94eb8c58c8fa"
      },
      "outputs": [
        {
          "output_type": "stream",
          "name": "stdout",
          "text": [
            "(60000, 28, 28)\n",
            "(10000, 28, 28)\n",
            "[5 0 4 ... 5 6 8]\n"
          ]
        },
        {
          "output_type": "display_data",
          "data": {
            "text/plain": [
              "<Figure size 432x288 with 1 Axes>"
            ],
            "image/png": "[encoded data removed]"
          },
          "metadata": {
            "needs_background": "light"
          }
        },
        {
          "output_type": "stream",
          "name": "stdout",
          "text": [
            "Epoch 1/3\n",
            "1875/1875 [==============================] - 5s 3ms/step - loss: 0.2586 - accuracy: 0.9258\n",
            "Epoch 2/3\n",
            "1875/1875 [==============================] - 5s 3ms/step - loss: 0.1122 - accuracy: 0.9665\n",
            "Epoch 3/3\n",
            "1875/1875 [==============================] - 5s 3ms/step - loss: 0.0770 - accuracy: 0.9767\n",
            "313/313 [==============================] - 1s 2ms/step - loss: 0.0831 - accuracy: 0.9745\n",
            "Test accuracy:  0.9745000004768372\n",
            "INFO:tensorflow:Assets written to: my_mnist_model/assets\n",
            "313/313 [==============================] - 1s 2ms/step - loss: 0.0831 - accuracy: 0.9745\n",
            "New Test accuracy:  0.9745000004768372\n"
          ]
        }
      ],
      "source": [
        "# import the necessary libraries\n",
        "import tensorflow as tf\n",
        "import matplotlib.pyplot as plt\n",
        "# load the data and split the data to training set and test set\n",
        "(train_images, train_labels), (test_images, test_labels) = tf.keras.datasets.mnist.load_data()\n",
        "# scale down the value of the image pixels from 0-255 to 0-1\n",
        "train_images = train_images / 255.0\n",
        "test_images = test_images / 255.0\n",
        "# visualize the data\n",
        "print(train_images.shape)\n",
        "print(test_images.shape)\n",
        "print(train_labels)\n",
        "\n",
        "plt.imshow(train_images[0], cmap='cool')\n",
        "plt.show()\n",
        "# define the model\n",
        "my_model = tf.keras.models.Sequential()\n",
        "my_model.add(tf.keras.layers.Flatten(input_shape=(28, 28)))\n",
        "my_model.add(tf.keras.layers.Dense(128, activation='relu'))\n",
        "my_model.add(tf.keras.layers.Dense(10, activation='softmax'))\n",
        "# compile the model\n",
        "my_model.compile(optimizer='adam', loss='sparse_categorical_crossentropy', metrics=['accuracy'])\n",
        "# train the model\n",
        "my_model.fit(train_images, train_labels, epochs=3)\n",
        "# check the model for accuracy on the test data\n",
        "val_loss, val_acc = my_model.evaluate(test_images, test_labels)\n",
        "print(\"Test accuracy: \", val_acc)\n",
        "# save the model for later use\n",
        "my_model.save('my_mnist_model')\n",
        "# load the model from file system\n",
        "my_new_model = tf.keras.models.load_model('my_mnist_model')\n",
        "# check the new model for accuracy on the test data\n",
        "new_val_loss, new_val_acc = my_new_model.evaluate(test_images, test_labels)\n",
        "print(\"New Test accuracy: \", new_val_acc)\n",
        "\n",
        "\n"
      ]
    }
  ]
}